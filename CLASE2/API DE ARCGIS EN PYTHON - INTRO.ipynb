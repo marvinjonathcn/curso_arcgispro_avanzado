{
 "cells": [
  {
   "cell_type": "markdown",
   "metadata": {},
   "source": [
    "## API DE ARCGIS EN PYTHON\n",
    "##### CURSO: GIS CON ARCGISPRO - III"
   ]
  },
  {
   "cell_type": "markdown",
   "metadata": {},
   "source": [
    "##### AUTOR: https://github.com/marvinjonathcn "
   ]
  },
  {
   "cell_type": "markdown",
   "metadata": {},
   "source": [
    "- #### NOTA: El siguiente código fue desarrollado en python 3.8.5. Antes de ejecutar los scripts se deben instalar las librerías necesarias. "
   ]
  },
  {
   "cell_type": "markdown",
   "metadata": {},
   "source": [
    "### 1. INSTALACIÓN E IMPORTACIÓN DE LAS LIBRERÍAS"
   ]
  },
  {
   "cell_type": "code",
   "execution_count": 3,
   "metadata": {},
   "outputs": [],
   "source": [
    "import arcpy"
   ]
  },
  {
   "cell_type": "markdown",
   "metadata": {},
   "source": [
    "### 2. INTRODUCCIÓN AL API DE ARCGIS EN PYTHON"
   ]
  },
  {
   "cell_type": "code",
   "execution_count": 4,
   "metadata": {
    "scrolled": true
   },
   "outputs": [
    {
     "data": {
      "application/vnd.jupyter.widget-view+json": {
       "model_id": "98d0aed250854d29bb560c9cbdafb53e",
       "version_major": 2,
       "version_minor": 0
      },
      "text/plain": [
       "MapView(layout=Layout(height='400px', width='100%'))"
      ]
     },
     "metadata": {},
     "output_type": "display_data"
    },
    {
     "data": {
      "text/html": [
       "<div class=\"map-static-img-preview-a754c177-421c-4458-9f71-9e1c531c11e7\"><img src=\"\"></img></div>"
      ],
      "text/plain": [
       "<IPython.core.display.HTML object>"
      ]
     },
     "metadata": {},
     "output_type": "display_data"
    },
    {
     "data": {
      "text/html": [
       "<div class=\"map-html-embed-preview-a754c177-421c-4458-9f71-9e1c531c11e7\"></div>"
      ],
      "text/plain": [
       "<IPython.core.display.HTML object>"
      ]
     },
     "metadata": {},
     "output_type": "display_data"
    }
   ],
   "source": [
    "# IMPORTAR BASEMAP\n",
    "\n",
    "from arcgis.gis import GIS\n",
    "my_gis = GIS()\n",
    "m = my_gis.map()\n",
    "m"
   ]
  },
  {
   "cell_type": "code",
   "execution_count": 5,
   "metadata": {
    "scrolled": true
   },
   "outputs": [
    {
     "data": {
      "text/html": [
       "<div class=\"9item_container\" style=\"height: auto; overflow: hidden; border: 1px solid #cfcfcf; border-radius: 2px; background: #f6fafa; line-height: 1.21429em; padding: 10px;\">\n",
       "                    <div class=\"item_left\" style=\"width: 210px; float: left;\">\n",
       "                       <a href='https://www.arcgis.com/home/user.html?user=Marcos' target='_blank'>\n",
       "                        <img src='https://www.arcgis.com/home/js/arcgisonline/css/images/no-user-thumb.jpg' class=\"itemThumbnail\">\n",
       "                       </a>\n",
       "                    </div>\n",
       "\n",
       "                    <div class=\"item_right\" style=\"float: none; width: auto; overflow: hidden;\">\n",
       "                        <a href='https://www.arcgis.com/home/user.html?user=Marcos' target='_blank'><b>Marcos Neves</b>\n",
       "                        </a>\n",
       "                        <br/><br/><b>Bio</b>: None\n",
       "                        <br/><b>First Name</b>: Marcos\n",
       "                        <br/><b>Last Name</b>: Neves\n",
       "                        <br/><b>Username</b>: Marcos\n",
       "                        <br/><b>Joined</b>: Julio 04, 2014\n",
       "\n",
       "                    </div>\n",
       "                </div>\n",
       "                "
      ],
      "text/plain": [
       "<User username:Marcos>"
      ]
     },
     "execution_count": 5,
     "metadata": {},
     "output_type": "execute_result"
    }
   ],
   "source": [
    "# VISUALIZAR INFORMACION DEL USUARIO\n",
    "\n",
    "user = my_gis.users.get('marcos')\n",
    "user"
   ]
  },
  {
   "cell_type": "code",
   "execution_count": 6,
   "metadata": {},
   "outputs": [
    {
     "data": {
      "application/vnd.jupyter.widget-view+json": {
       "model_id": "a2c36771c8164108b3b83389941a2f75",
       "version_major": 2,
       "version_minor": 0
      },
      "text/plain": [
       "MapView(layout=Layout(height='400px', width='100%'))"
      ]
     },
     "metadata": {},
     "output_type": "display_data"
    },
    {
     "data": {
      "text/html": [
       "<div class=\"map-static-img-preview-2cf496ff-9596-4c6c-90ab-d4bc8ee0b443\"><img src=\"\"></img></div>"
      ],
      "text/plain": [
       "<IPython.core.display.HTML object>"
      ]
     },
     "metadata": {},
     "output_type": "display_data"
    },
    {
     "data": {
      "text/html": [
       "<div class=\"map-html-embed-preview-2cf496ff-9596-4c6c-90ab-d4bc8ee0b443\"></div>"
      ],
      "text/plain": [
       "<IPython.core.display.HTML object>"
      ]
     },
     "metadata": {},
     "output_type": "display_data"
    }
   ],
   "source": [
    "# IMPORTAR BASEMAP CENTRADO EN ALGUN LUGAR\n",
    "\n",
    "from arcgis.gis import GIS\n",
    "my_gis = GIS()\n",
    "m2 = my_gis.map(\"Lima, PE\")\n",
    "m2"
   ]
  },
  {
   "cell_type": "code",
   "execution_count": 7,
   "metadata": {
    "scrolled": false
   },
   "outputs": [
    {
     "data": {
      "text/html": [
       "<div class=\"item_container\" style=\"height: auto; overflow: hidden; border: 1px solid #cfcfcf; border-radius: 2px; background: #f6fafa; line-height: 1.21429em; padding: 10px;\">\n",
       "                    <div class=\"item_left\" style=\"width: 210px; float: left;\">\n",
       "                       <a href='https://www.arcgis.com/home/item.html?id=85c5a5e081c64b7ca4d565a96eafcefe' target='_blank'>\n",
       "                        <img src='https://www.arcgis.com/sharing/rest//content/items/85c5a5e081c64b7ca4d565a96eafcefe/info/thumbnail/Image02.png' class=\"itemThumbnail\">\n",
       "                       </a>\n",
       "                    </div>\n",
       "\n",
       "                    <div class=\"item_right\"     style=\"float: none; width: auto; overflow: hidden;\">\n",
       "                        <a href='https://www.arcgis.com/home/item.html?id=85c5a5e081c64b7ca4d565a96eafcefe' target='_blank'><b>METADATA SENAMHI 2020</b>\n",
       "                        </a>\n",
       "                        <br/><img src='https://www.arcgis.com/home/js/jsapi/esri/css/images/item_type_icons/layers16.png' style=\"vertical-align:middle;\">Form by SENAMHILOR\n",
       "                        <br/>Last Modified: Octubre 08, 2020\n",
       "                        <br/>0 comments, 1 views\n",
       "                    </div>\n",
       "                </div>\n",
       "                "
      ],
      "text/plain": [
       "<Item title:\"METADATA SENAMHI 2020\" type:Form owner:SENAMHILOR>"
      ]
     },
     "metadata": {},
     "output_type": "display_data"
    },
    {
     "data": {
      "text/html": [
       "<div class=\"item_container\" style=\"height: auto; overflow: hidden; border: 1px solid #cfcfcf; border-radius: 2px; background: #f6fafa; line-height: 1.21429em; padding: 10px;\">\n",
       "                    <div class=\"item_left\" style=\"width: 210px; float: left;\">\n",
       "                       <a href='https://www.arcgis.com/home/item.html?id=b954358c68b94d38892a03ac9cb2367d' target='_blank'>\n",
       "                        <img src='https://www.arcgis.com/sharing/rest//content/items/b954358c68b94d38892a03ac9cb2367d/info/thumbnail/thumbnail1597869577438.png' class=\"itemThumbnail\">\n",
       "                       </a>\n",
       "                    </div>\n",
       "\n",
       "                    <div class=\"item_right\"     style=\"float: none; width: auto; overflow: hidden;\">\n",
       "                        <a href='https://www.arcgis.com/home/item.html?id=b954358c68b94d38892a03ac9cb2367d' target='_blank'><b>Precipitaciones Máximas Durante el Niño del 97-98 en la zona norte del Perú</b>\n",
       "                        </a>\n",
       "                        <br/>En el presente mapa se muestran 20 estaciones meteorológicas, ubicadas en los departamentos de Tumbes y Piura, cada una con su valor de precipitación máxima y fecha registrada durante el Niño del 97 - 98 en la zona norte del Perú.\n",
       "Fuente: SENAMHI<img src='https://www.arcgis.com/home/js/jsapi/esri/css/images/item_type_icons/maps16.png' style=\"vertical-align:middle;\">Web Map by angelillo010\n",
       "                        <br/>Last Modified: Agosto 21, 2020\n",
       "                        <br/>0 comments, 70 views\n",
       "                    </div>\n",
       "                </div>\n",
       "                "
      ],
      "text/plain": [
       "<Item title:\"Precipitaciones Máximas Durante el Niño del 97-98 en la zona norte del Perú\" type:Web Map owner:angelillo010>"
      ]
     },
     "metadata": {},
     "output_type": "display_data"
    },
    {
     "data": {
      "text/html": [
       "<div class=\"item_container\" style=\"height: auto; overflow: hidden; border: 1px solid #cfcfcf; border-radius: 2px; background: #f6fafa; line-height: 1.21429em; padding: 10px;\">\n",
       "                    <div class=\"item_left\" style=\"width: 210px; float: left;\">\n",
       "                       <a href='https://www.arcgis.com/home/item.html?id=8a17d1379e204f6fa27242c74e2f5274' target='_blank'>\n",
       "                        <img src='https://www.arcgis.com/sharing/rest//content/items/8a17d1379e204f6fa27242c74e2f5274/info/thumbnail/thumbnail1595964636197.png' class=\"itemThumbnail\">\n",
       "                       </a>\n",
       "                    </div>\n",
       "\n",
       "                    <div class=\"item_right\"     style=\"float: none; width: auto; overflow: hidden;\">\n",
       "                        <a href='https://www.arcgis.com/home/item.html?id=8a17d1379e204f6fa27242c74e2f5274' target='_blank'><b>Estaciones Hidrometeorológicas Perú</b>\n",
       "                        </a>\n",
       "                        <br/>Estaciones meteorológicas Perú<img src='https://www.arcgis.com/home/js/jsapi/esri/css/images/item_type_icons/maps16.png' style=\"vertical-align:middle;\">Web Map by swpuelles255\n",
       "                        <br/>Last Modified: Julio 29, 2020\n",
       "                        <br/>0 comments, 79 views\n",
       "                    </div>\n",
       "                </div>\n",
       "                "
      ],
      "text/plain": [
       "<Item title:\"Estaciones Hidrometeorológicas Perú\" type:Web Map owner:swpuelles255>"
      ]
     },
     "metadata": {},
     "output_type": "display_data"
    },
    {
     "data": {
      "text/html": [
       "<div class=\"item_container\" style=\"height: auto; overflow: hidden; border: 1px solid #cfcfcf; border-radius: 2px; background: #f6fafa; line-height: 1.21429em; padding: 10px;\">\n",
       "                    <div class=\"item_left\" style=\"width: 210px; float: left;\">\n",
       "                       <a href='https://www.arcgis.com/home/item.html?id=a7623ea05c7b44638f537f3b61d30de9' target='_blank'>\n",
       "                        <img src='https://www.arcgis.com/sharing/rest//content/items/a7623ea05c7b44638f537f3b61d30de9/info/thumbnail/ago_downloaded.png' class=\"itemThumbnail\">\n",
       "                       </a>\n",
       "                    </div>\n",
       "\n",
       "                    <div class=\"item_right\"     style=\"float: none; width: auto; overflow: hidden;\">\n",
       "                        <a href='https://www.arcgis.com/home/item.html?id=a7623ea05c7b44638f537f3b61d30de9' target='_blank'><b>estaciones de medicion</b>\n",
       "                        </a>\n",
       "                        <br/><img src='https://www.arcgis.com/home/js/jsapi/esri/css/images/item_type_icons/maps16.png' style=\"vertical-align:middle;\">Web Map by marcelo.villarroel\n",
       "                        <br/>Last Modified: Febrero 10, 2014\n",
       "                        <br/>0 comments, 85 views\n",
       "                    </div>\n",
       "                </div>\n",
       "                "
      ],
      "text/plain": [
       "<Item title:\"estaciones de medicion\" type:Web Map owner:marcelo.villarroel>"
      ]
     },
     "metadata": {},
     "output_type": "display_data"
    },
    {
     "data": {
      "text/html": [
       "<div class=\"item_container\" style=\"height: auto; overflow: hidden; border: 1px solid #cfcfcf; border-radius: 2px; background: #f6fafa; line-height: 1.21429em; padding: 10px;\">\n",
       "                    <div class=\"item_left\" style=\"width: 210px; float: left;\">\n",
       "                       <a href='https://www.arcgis.com/home/item.html?id=ccd7d8fd0ca04d2686fd5c5b7b8eabf0' target='_blank'>\n",
       "                        <img src='https://www.arcgis.com/sharing/rest//content/items/ccd7d8fd0ca04d2686fd5c5b7b8eabf0/info/thumbnail/ago_downloaded.png' class=\"itemThumbnail\">\n",
       "                       </a>\n",
       "                    </div>\n",
       "\n",
       "                    <div class=\"item_right\"     style=\"float: none; width: auto; overflow: hidden;\">\n",
       "                        <a href='https://www.arcgis.com/home/item.html?id=ccd7d8fd0ca04d2686fd5c5b7b8eabf0' target='_blank'><b>Estaciones SENAMHI</b>\n",
       "                        </a>\n",
       "                        <br/>Ecoregiones, áreas protegidas y ecosistemas por el Perú<img src='https://www.arcgis.com/home/js/jsapi/esri/css/images/item_type_icons/maps16.png' style=\"vertical-align:middle;\">Web Map by jchiragis\n",
       "                        <br/>Last Modified: Enero 31, 2018\n",
       "                        <br/>0 comments, 51 views\n",
       "                    </div>\n",
       "                </div>\n",
       "                "
      ],
      "text/plain": [
       "<Item title:\"Estaciones SENAMHI\" type:Web Map owner:jchiragis>"
      ]
     },
     "metadata": {},
     "output_type": "display_data"
    },
    {
     "data": {
      "text/html": [
       "<div class=\"item_container\" style=\"height: auto; overflow: hidden; border: 1px solid #cfcfcf; border-radius: 2px; background: #f6fafa; line-height: 1.21429em; padding: 10px;\">\n",
       "                    <div class=\"item_left\" style=\"width: 210px; float: left;\">\n",
       "                       <a href='https://www.arcgis.com/home/item.html?id=16360a4c8c5f49f5ab9156df89326f21' target='_blank'>\n",
       "                        <img src='https://www.arcgis.com/sharing/rest//content/items/16360a4c8c5f49f5ab9156df89326f21/info/thumbnail/ago_downloaded.png' class=\"itemThumbnail\">\n",
       "                       </a>\n",
       "                    </div>\n",
       "\n",
       "                    <div class=\"item_right\"     style=\"float: none; width: auto; overflow: hidden;\">\n",
       "                        <a href='https://www.arcgis.com/home/item.html?id=16360a4c8c5f49f5ab9156df89326f21' target='_blank'><b>CLIMA_SENAMHI_PERÚ</b>\n",
       "                        </a>\n",
       "                        <br/>Estaciones operativas_monitoreo_pronóstico<img src='https://www.arcgis.com/home/js/jsapi/esri/css/images/item_type_icons/maps16.png' style=\"vertical-align:middle;\">Web Map by pattyfriend_04\n",
       "                        <br/>Last Modified: Febrero 09, 2018\n",
       "                        <br/>0 comments, 489 views\n",
       "                    </div>\n",
       "                </div>\n",
       "                "
      ],
      "text/plain": [
       "<Item title:\"CLIMA_SENAMHI_PERÚ\" type:Web Map owner:pattyfriend_04>"
      ]
     },
     "metadata": {},
     "output_type": "display_data"
    },
    {
     "data": {
      "text/html": [
       "<div class=\"item_container\" style=\"height: auto; overflow: hidden; border: 1px solid #cfcfcf; border-radius: 2px; background: #f6fafa; line-height: 1.21429em; padding: 10px;\">\n",
       "                    <div class=\"item_left\" style=\"width: 210px; float: left;\">\n",
       "                       <a href='https://www.arcgis.com/home/item.html?id=d2d41a6a3f054c269da8a94a5078ce63' target='_blank'>\n",
       "                        <img src='https://www.arcgis.com/sharing/rest//content/items/d2d41a6a3f054c269da8a94a5078ce63/info/thumbnail/ago_downloaded.gif' class=\"itemThumbnail\">\n",
       "                       </a>\n",
       "                    </div>\n",
       "\n",
       "                    <div class=\"item_right\"     style=\"float: none; width: auto; overflow: hidden;\">\n",
       "                        <a href='https://www.arcgis.com/home/item.html?id=d2d41a6a3f054c269da8a94a5078ce63' target='_blank'><b>SENAMHI_UMSA</b>\n",
       "                        </a>\n",
       "                        <br/><img src='https://www.arcgis.com/home/js/jsapi/esri/css/images/item_type_icons/featureshosted16.png' style=\"vertical-align:middle;\">Feature Layer Collection by PabloCabrera\n",
       "                        <br/>Last Modified: Agosto 30, 2019\n",
       "                        <br/>0 comments, 88 views\n",
       "                    </div>\n",
       "                </div>\n",
       "                "
      ],
      "text/plain": [
       "<Item title:\"SENAMHI_UMSA\" type:Feature Layer Collection owner:PabloCabrera>"
      ]
     },
     "metadata": {},
     "output_type": "display_data"
    },
    {
     "data": {
      "text/html": [
       "<div class=\"item_container\" style=\"height: auto; overflow: hidden; border: 1px solid #cfcfcf; border-radius: 2px; background: #f6fafa; line-height: 1.21429em; padding: 10px;\">\n",
       "                    <div class=\"item_left\" style=\"width: 210px; float: left;\">\n",
       "                       <a href='https://www.arcgis.com/home/item.html?id=a7d0e91f7d534e60a75729f90020d2a2' target='_blank'>\n",
       "                        <img src='https://www.arcgis.com/sharing/rest//content/items/a7d0e91f7d534e60a75729f90020d2a2/info/thumbnail/ago_downloaded.png' class=\"itemThumbnail\">\n",
       "                       </a>\n",
       "                    </div>\n",
       "\n",
       "                    <div class=\"item_right\"     style=\"float: none; width: auto; overflow: hidden;\">\n",
       "                        <a href='https://www.arcgis.com/home/item.html?id=a7d0e91f7d534e60a75729f90020d2a2' target='_blank'><b>Información climática UMSA QUINAGUA MCKNIGHT 2017</b>\n",
       "                        </a>\n",
       "                        <br/>Información climática registrada por las estaciones meteorológicas con las que cuenta el proyecto en adición a otras estaciones recopiladas de otras fuentes.<img src='https://www.arcgis.com/home/js/jsapi/esri/css/images/item_type_icons/featureshosted16.png' style=\"vertical-align:middle;\">Feature Layer Collection by edwin.yucra_CCRP\n",
       "                        <br/>Last Modified: Julio 01, 2017\n",
       "                        <br/>0 comments, 1,281 views\n",
       "                    </div>\n",
       "                </div>\n",
       "                "
      ],
      "text/plain": [
       "<Item title:\"Información climática UMSA QUINAGUA MCKNIGHT 2017\" type:Feature Layer Collection owner:edwin.yucra_CCRP>"
      ]
     },
     "metadata": {},
     "output_type": "display_data"
    }
   ],
   "source": [
    "# BUSCAR INFORMACION ESPACIAL EN LA RED DE ARCGIS\n",
    "\n",
    "from IPython.display import display\n",
    "\n",
    "items = my_gis.content.search('Estaciones SENAMHI')\n",
    "for item in items:\n",
    "    display(item)"
   ]
  },
  {
   "cell_type": "code",
   "execution_count": 8,
   "metadata": {
    "scrolled": false
   },
   "outputs": [
    {
     "data": {
      "application/vnd.jupyter.widget-view+json": {
       "model_id": "98d0aed250854d29bb560c9cbdafb53e",
       "version_major": 2,
       "version_minor": 0
      },
      "text/plain": [
       "MapView(layout=Layout(height='400px', width='100%'))"
      ]
     },
     "metadata": {},
     "output_type": "display_data"
    },
    {
     "data": {
      "text/html": [
       "<div class=\"map-static-img-preview-a754c177-421c-4458-9f71-9e1c531c11e7\"><img src=\"\"></img></div>"
      ],
      "text/plain": [
       "<IPython.core.display.HTML object>"
      ]
     },
     "metadata": {},
     "output_type": "display_data"
    },
    {
     "data": {
      "text/html": [
       "<div class=\"map-html-embed-preview-a754c177-421c-4458-9f71-9e1c531c11e7\"></div>"
      ],
      "text/plain": [
       "<IPython.core.display.HTML object>"
      ]
     },
     "metadata": {},
     "output_type": "display_data"
    }
   ],
   "source": [
    "# EXCOGER UN FEATURE LAYER QUE SE DESEA AÑADIR AL MAPA\n",
    "\n",
    "item_to_add = [temp_item for temp_item in items if temp_item.title == \"Información climática UMSA QUINAGUA MCKNIGHT 2017\"]\n",
    "m.add_layer(item_to_add[0])\n",
    "m"
   ]
  },
  {
   "cell_type": "code",
   "execution_count": 12,
   "metadata": {
    "scrolled": false
   },
   "outputs": [
    {
     "data": {
      "application/vnd.jupyter.widget-view+json": {
       "model_id": "a82ba3eb8c9c4ab385e45e2ee61e02fc",
       "version_major": 2,
       "version_minor": 0
      },
      "text/plain": [
       "MapView(hide_mode_switch=True, layout=Layout(height='400px', width='100%'))"
      ]
     },
     "metadata": {},
     "output_type": "display_data"
    },
    {
     "data": {
      "text/html": [
       "<div class=\"map-static-img-preview-3e4c9ad4-39f7-4d79-9ffc-7706f395048d\"><img src=\"\"></img></div>"
      ],
      "text/plain": [
       "<IPython.core.display.HTML object>"
      ]
     },
     "metadata": {},
     "output_type": "display_data"
    },
    {
     "data": {
      "text/html": [
       "<div class=\"map-html-embed-preview-3e4c9ad4-39f7-4d79-9ffc-7706f395048d\"></div>"
      ],
      "text/plain": [
       "<IPython.core.display.HTML object>"
      ]
     },
     "metadata": {},
     "output_type": "display_data"
    }
   ],
   "source": [
    "# EXCOGER UN WEB MAP QUE SE DESEA AÑADIR AL MAPA\n",
    "\n",
    "from arcgis.mapping import WebMap\n",
    "\n",
    "item_to_add = [temp_item for temp_item in items if temp_item.title == \"Precipitaciones Máximas Durante el Niño del 97-98 en la zona norte del Perú\"]\n",
    "est_senamhi_map = WebMap(item_to_add[0])\n",
    "\n",
    "est_senamhi_map\n"
   ]
  },
  {
   "cell_type": "code",
   "execution_count": null,
   "metadata": {},
   "outputs": [],
   "source": []
  }
 ],
 "metadata": {
  "kernelspec": {
   "display_name": "Python 3",
   "language": "python",
   "name": "python3"
  },
  "language_info": {
   "codemirror_mode": {
    "name": "ipython",
    "version": 3
   },
   "file_extension": ".py",
   "mimetype": "text/x-python",
   "name": "python",
   "nbconvert_exporter": "python",
   "pygments_lexer": "ipython3",
   "version": "3.7.10"
  }
 },
 "nbformat": 4,
 "nbformat_minor": 4
}
